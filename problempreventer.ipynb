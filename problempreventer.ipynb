{
 "cells": [
  {
   "cell_type": "code",
   "execution_count": null,
   "id": "2a567d49-e783-4b50-a0fb-ef1c7994fd0c",
   "metadata": {},
   "outputs": [],
   "source": [
    "from problempreventer import ProblemPreventer\n",
    "\n",
    "# Step 1: Create an instance\n",
    "pp = ProblemPreventer()\n",
    "\n",
    "# Step 2: Add issues from user\n",
    "issue1 = input(\"Enter first issue to add: \")\n",
    "issue2 = input(\"Enter second issue to add: \")\n",
    "issue3 = input(\"Enter third issue to add: \")\n",
    "\n",
    "print(pp.add_issue(issue1))\n",
    "print(pp.add_issue(issue2))\n",
    "print(pp.add_issue(issue3))\n",
    "\n",
    "# Step 3: List all issues\n",
    "print(\"Current Issues:\", pp.list_issues())\n",
    "\n",
    "# Step 4: Check for a specific issue\n",
    "check_issue = input(\"Enter issue to check if present: \")\n",
    "print(f\"Is '{check_issue}' an issue?\", pp.is_issue_present(check_issue))\n",
    "\n",
    "# Step 5: Replace an issue\n",
    "old_issue = input(\"Enter issue to replace: \")\n",
    "new_issue = input(\"Enter new issue to replace with: \")\n",
    "print(pp.replace_issue(old_issue, new_issue))\n",
    "\n",
    "# Step 6: Search for an issue\n",
    "search_term = input(\"Enter keyword to search for in issues: \")\n",
    "print(\"Search result:\", pp.find_issue(search_term))\n",
    "\n",
    "# Step 7: Show summary\n",
    "print(pp.summary())\n",
    "\n",
    "# Step 8: Remove an issue\n",
    "remove_issue = input(\"Enter issue to remove: \")\n",
    "print(pp.remove_issue(remove_issue))\n",
    "\n",
    "# Step 9: Final issues list and clear all\n",
    "print(\"Final Issues:\", pp.list_issues())\n",
    "print(pp.clear_issues())\n",
    "print(\"Issues after clearing:\", pp.list_issues())\n"
   ]
  },
  {
   "cell_type": "code",
   "execution_count": null,
   "id": "de5ebeb6-e4a3-4f45-be4b-30f25f2df392",
   "metadata": {},
   "outputs": [],
   "source": []
  }
 ],
 "metadata": {
  "kernelspec": {
   "display_name": "Python 3 (ipykernel)",
   "language": "python",
   "name": "python3"
  },
  "language_info": {
   "codemirror_mode": {
    "name": "ipython",
    "version": 3
   },
   "file_extension": ".py",
   "mimetype": "text/x-python",
   "name": "python",
   "nbconvert_exporter": "python",
   "pygments_lexer": "ipython3",
   "version": "3.13.1"
  }
 },
 "nbformat": 4,
 "nbformat_minor": 5
}
