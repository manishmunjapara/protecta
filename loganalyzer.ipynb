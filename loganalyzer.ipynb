{
 "cells": [
  {
   "cell_type": "code",
   "execution_count": null,
   "id": "e3da908b-98c6-4222-bea9-20c123d640c8",
   "metadata": {},
   "outputs": [
    {
     "name": "stdout",
     "output_type": "stream",
     "text": [
      "Enter your log lines (type 'END' on a new line to finish):\n"
     ]
    }
   ],
   "source": [
    "from loganalyzer import LogAnalyzer\n",
    "\n",
    "# 1. Get log input from user\n",
    "print(\"Enter your log lines (type 'END' on a new line to finish):\")\n",
    "lines = []\n",
    "while True:\n",
    "    line = input()\n",
    "    if line.strip().upper() == \"END\":\n",
    "        break\n",
    "    lines.append(line)\n",
    "user_log = \"\\n\".join(lines)\n",
    "\n",
    "# 2. Create instance of LogAnalyzer\n",
    "log = LogAnalyzer(user_log)\n",
    "\n",
    "# 3. Show total lines\n",
    "print(\"Total lines:\", log.total_lines())\n",
    "\n",
    "# 4. Search for a keyword\n",
    "keyword = input(\"Enter keyword to search: \")\n",
    "print(f\"Lines with '{keyword}':\", log.search_keyword(keyword))\n",
    "\n",
    "# 5. Count occurrences of keyword\n",
    "print(f\"Count of '{keyword}':\", log.count_keyword(keyword))\n",
    "\n",
    "# 6. Get unique IPs\n",
    "print(\"Unique IPs:\", log.get_unique_ips())\n",
    "\n",
    "# 7. Filter by HTTP status code\n",
    "status = input(\"Enter HTTP status code to filter by (e.g., 404): \")\n",
    "print(f\"Lines with status {status}:\", log.filter_by_status(status))\n",
    "\n",
    "# 8. Get error lines\n",
    "print(\"Error lines (4xx & 5xx):\", log.error_lines())\n",
    "\n",
    "# 9. Show log summary\n",
    "print(\"Log Summary:\", log.get_summary())\n",
    "\n",
    "# 10. Show top N lines\n",
    "top_n = int(input(\"Enter number of top lines to display: \"))\n",
    "print(f\"Top {top_n} lines:\", log.print_top_lines(top_n))\n"
   ]
  },
  {
   "cell_type": "code",
   "execution_count": null,
   "id": "51f96a0f-c23a-4637-9ec4-e94b7db56ead",
   "metadata": {},
   "outputs": [],
   "source": []
  }
 ],
 "metadata": {
  "kernelspec": {
   "display_name": "Python 3 (ipykernel)",
   "language": "python",
   "name": "python3"
  },
  "language_info": {
   "codemirror_mode": {
    "name": "ipython",
    "version": 3
   },
   "file_extension": ".py",
   "mimetype": "text/x-python",
   "name": "python",
   "nbconvert_exporter": "python",
   "pygments_lexer": "ipython3",
   "version": "3.13.1"
  }
 },
 "nbformat": 4,
 "nbformat_minor": 5
}
