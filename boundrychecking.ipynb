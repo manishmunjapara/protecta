{
 "cells": [
  {
   "cell_type": "code",
   "execution_count": null,
   "id": "fdeec355-9ba0-451e-a3ec-465d24f12f31",
   "metadata": {},
   "outputs": [],
   "source": [
    "#1Check if a number is within a range\n",
    "def check_range(value, min_val, max_val):\n",
    "    return min_val <= value <= max_val\n",
    "\n",
    "num = int(input(\"Enter a number: \"))\n",
    "print(\"In range (1-100):\", check_range(num, 1, 100))"
   ]
  },
  {
   "cell_type": "code",
   "execution_count": null,
   "id": "d92af12d-ebc7-4ddd-b5d4-b557fb80c7f4",
   "metadata": {},
   "outputs": [],
   "source": [
    "#2Check if a number is positive\n",
    "def is_positive(value):\n",
    "    return value > 0\n",
    "\n",
    "num = int(input(\"Enter a number: \"))\n",
    "print(\"Positive:\", is_positive(num))"
   ]
  },
  {
   "cell_type": "code",
   "execution_count": null,
   "id": "509cad56-d993-4e76-8ce4-ea1ab42b1219",
   "metadata": {},
   "outputs": [],
   "source": [
    "#3Check if a number is negative\n",
    "def is_negative(value):\n",
    "    return value < 0\n",
    "\n",
    "num = int(input(\"Enter a number: \"))\n",
    "print(\"Negative:\", is_negative(num))"
   ]
  },
  {
   "cell_type": "code",
   "execution_count": null,
   "id": "a195e8d9-2740-41a5-882e-d5355208c7de",
   "metadata": {},
   "outputs": [],
   "source": [
    "#4Check if a number is even\n",
    "def is_even(value):\n",
    "    return value % 2 == 0\n",
    "\n",
    "num = int(input(\"Enter a number: \"))\n",
    "print(\"Even:\", is_even(num))"
   ]
  },
  {
   "cell_type": "code",
   "execution_count": null,
   "id": "94573d58-e114-4f23-a7c1-fb356df6ca0b",
   "metadata": {},
   "outputs": [],
   "source": [
    "#5Check if a number is odd\n",
    "def is_odd(value):\n",
    "    return value % 2 != 0\n",
    "\n",
    "num = int(input(\"Enter a number: \"))\n",
    "print(\"Odd:\", is_odd(num))"
   ]
  },
  {
   "cell_type": "code",
   "execution_count": null,
   "id": "e75b463f-1679-4a89-bd18-20fb4636a91f",
   "metadata": {},
   "outputs": [],
   "source": [
    "#6Check if a number is prime\n",
    "def is_prime(value):\n",
    "    if value < 2:\n",
    "        return False\n",
    "    for i in range(2, value):\n",
    "        if value % i == 0:\n",
    "            return False\n",
    "    return True\n",
    "\n",
    "num = int(input(\"Enter a number: \"))\n",
    "print(\"Prime:\", is_prime(num))"
   ]
  },
  {
   "cell_type": "code",
   "execution_count": null,
   "id": "cabeae32-e9eb-4305-8a75-a76595e90d51",
   "metadata": {},
   "outputs": [],
   "source": [
    "#7Check if a number is in a given list\n",
    "def in_list(value, valid_values):\n",
    "    return value in valid_values\n",
    "\n",
    "num = int(input(\"Enter a number: \"))\n",
    "print(\"In list [10, 20, 30]:\", in_list(num, [10, 20, 30]))\n"
   ]
  },
  {
   "cell_type": "code",
   "execution_count": null,
   "id": "f5420b87-f949-4670-85cf-f6dab7aa70cc",
   "metadata": {},
   "outputs": [],
   "source": [
    "#8Check if a string’s length is within a limit\n",
    "def check_length(value, min_len, max_len):\n",
    "    return min_len <= len(value) <= max_len\n",
    "\n",
    "text = input(\"Enter a string: \")\n",
    "print(\"Length between 2-5:\", check_length(text, 2, 5))"
   ]
  },
  {
   "cell_type": "code",
   "execution_count": null,
   "id": "1b633f69-8cfb-405e-96a0-9f4540de0d58",
   "metadata": {},
   "outputs": [],
   "source": [
    "#9Check if a number is a multiple of another\n",
    "def is_multiple(value, multiple_of):\n",
    "    return value % multiple_of == 0\n",
    "\n",
    "num = int(input(\"Enter a number: \"))\n",
    "print(\"Multiple of 5:\", is_multiple(num, 5))"
   ]
  },
  {
   "cell_type": "code",
   "execution_count": null,
   "id": "8f9c51be-aaec-4c29-b7b7-a114aef2b841",
   "metadata": {},
   "outputs": [],
   "source": [
    "#10Check if a number is non-zero\n",
    "def is_non_zero(value):\n",
    "    return value != 0\n",
    "\n",
    "num = int(input(\"Enter a number: \"))\n",
    "print(\"Non-zero:\", is_non_zero(num))"
   ]
  }
 ],
 "metadata": {
  "kernelspec": {
   "display_name": "Python 3 (ipykernel)",
   "language": "python",
   "name": "python3"
  },
  "language_info": {
   "codemirror_mode": {
    "name": "ipython",
    "version": 3
   },
   "file_extension": ".py",
   "mimetype": "text/x-python",
   "name": "python",
   "nbconvert_exporter": "python",
   "pygments_lexer": "ipython3",
   "version": "3.13.1"
  }
 },
 "nbformat": 4,
 "nbformat_minor": 5
}
