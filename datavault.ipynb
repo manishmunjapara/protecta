{
 "cells": [
  {
   "cell_type": "code",
   "execution_count": 5,
   "id": "0bb874f7-0528-43b4-851c-f96c3c338460",
   "metadata": {},
   "outputs": [
    {
     "name": "stdout",
     "output_type": "stream",
     "text": [
      "\n",
      "------ DataVault Menu ------\n",
      "1. Add item\n",
      "2. Remove item\n",
      "3. Find item\n",
      "4. Show all items\n",
      "5. Count items\n",
      "6. Sort items\n",
      "7. Reverse items\n",
      "8. Get item by index\n",
      "9. Update item\n",
      "0. Exit\n",
      "----------------------------\n"
     ]
    },
    {
     "name": "stdin",
     "output_type": "stream",
     "text": [
      "Enter your choice:  1\n",
      "Enter item to add:  apple banana mango berries graps\n"
     ]
    },
    {
     "name": "stdout",
     "output_type": "stream",
     "text": [
      "Added: apple banana mango berries graps\n",
      "\n",
      "------ DataVault Menu ------\n",
      "1. Add item\n",
      "2. Remove item\n",
      "3. Find item\n",
      "4. Show all items\n",
      "5. Count items\n",
      "6. Sort items\n",
      "7. Reverse items\n",
      "8. Get item by index\n",
      "9. Update item\n",
      "0. Exit\n",
      "----------------------------\n"
     ]
    },
    {
     "name": "stdin",
     "output_type": "stream",
     "text": [
      "Enter your choice:  2\n",
      "Enter item to remove:  apple\n"
     ]
    },
    {
     "name": "stdout",
     "output_type": "stream",
     "text": [
      "Item not found.\n",
      "\n",
      "------ DataVault Menu ------\n",
      "1. Add item\n",
      "2. Remove item\n",
      "3. Find item\n",
      "4. Show all items\n",
      "5. Count items\n",
      "6. Sort items\n",
      "7. Reverse items\n",
      "8. Get item by index\n",
      "9. Update item\n",
      "0. Exit\n",
      "----------------------------\n"
     ]
    },
    {
     "name": "stdin",
     "output_type": "stream",
     "text": [
      "Enter your choice:  0\n"
     ]
    },
    {
     "name": "stdout",
     "output_type": "stream",
     "text": [
      "Exiting DataVault. Goodbye!\n"
     ]
    }
   ],
   "source": [
    "# from datavault import DataVault\n",
    "\n",
    "vault = DataVault()\n",
    "\n",
    "def display_menu():\n",
    "    print(\"\\n------ DataVault Menu ------\")\n",
    "    print(\"1. Add item\")\n",
    "    print(\"2. Remove item\")\n",
    "    print(\"3. Find item\")\n",
    "    print(\"4. Show all items\")\n",
    "    print(\"5. Count items\")\n",
    "    print(\"6. Sort items\")\n",
    "    print(\"7. Reverse items\")\n",
    "    print(\"8. Get item by index\")\n",
    "    print(\"9. Update item\")\n",
    "    print(\"0. Exit\")\n",
    "    print(\"----------------------------\")\n",
    "\n",
    "while True:\n",
    "    display_menu()\n",
    "    choice = input(\"Enter your choice: \")\n",
    "\n",
    "    if choice == \"1\":\n",
    "        item = input(\"Enter item to add: \")\n",
    "        print(vault.add_item(item))\n",
    "\n",
    "    elif choice == \"2\":\n",
    "        item = input(\"Enter item to remove: \")\n",
    "        print(vault.remove_item(item))\n",
    "\n",
    "    elif choice == \"3\":\n",
    "        item = input(\"Enter item to find: \")\n",
    "        print(\"Found?\" if vault.find_item(item) else \"Not found.\")\n",
    "\n",
    "    elif choice == \"4\":\n",
    "        print(\"Items:\", vault.get_all())\n",
    "\n",
    "    elif choice == \"5\":\n",
    "        print(\"Total items:\", vault.count_items())\n",
    "\n",
    "    elif choice == \"6\":\n",
    "        print(\"Sorted items:\", vault.sort_data())\n",
    "\n",
    "    elif choice == \"7\":\n",
    "        print(\"Reversed items:\", vault.reverse_data())\n",
    "\n",
    "    elif choice == \"8\":\n",
    "        try:\n",
    "            index = int(input(\"Enter index: \"))\n",
    "            print(\"Item at index\", index, \":\", vault.get_item_by_index(index))\n",
    "        except:\n",
    "            print(\"Invalid index!\")\n",
    "\n",
    "    elif choice == \"9\":\n",
    "        old_item = input(\"Enter item to update: \")\n",
    "        new_item = input(\"Enter new item: \")\n",
    "        print(vault.update_item(old_item, new_item))\n",
    "\n",
    "    elif choice == \"0\":\n",
    "        print(\"Exiting DataVault. Goodbye!\")\n",
    "        break\n",
    "\n",
    "    else:\n",
    "        print(\"Invalid choice. Please try again.\")\n"
   ]
  },
  {
   "cell_type": "code",
   "execution_count": null,
   "id": "2d445797-66e1-4dcd-88da-4fa6a86cde2d",
   "metadata": {},
   "outputs": [],
   "source": []
  }
 ],
 "metadata": {
  "kernelspec": {
   "display_name": "Python 3 (ipykernel)",
   "language": "python",
   "name": "python3"
  },
  "language_info": {
   "codemirror_mode": {
    "name": "ipython",
    "version": 3
   },
   "file_extension": ".py",
   "mimetype": "text/x-python",
   "name": "python",
   "nbconvert_exporter": "python",
   "pygments_lexer": "ipython3",
   "version": "3.13.1"
  }
 },
 "nbformat": 4,
 "nbformat_minor": 5
}
