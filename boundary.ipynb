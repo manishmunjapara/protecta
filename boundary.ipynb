{
 "cells": [
  {
   "cell_type": "code",
   "execution_count": null,
   "id": "756a1b3a-4463-4224-ace2-0b239b68db2a",
   "metadata": {},
   "outputs": [],
   "source": [
    "# Step 1: Import the class\n",
    "from boundary import boundary\n",
    "\n",
    "# Step 2: Create object\n",
    "checker = boundary()\n",
    "\n",
    "# Step 3: Use the functions with user input\n",
    "value = int(input(\"Enter a number to check within range: \"))\n",
    "min_val = int(input(\"Enter min value of range: \"))\n",
    "max_val = int(input(\"Enter max value of range: \"))\n",
    "print(\"Within range:\", checker.is_within_range(value, min_val, max_val))\n",
    "\n",
    "num = int(input(\"Enter a number to check positivity, negativity, zero, even/odd: \"))\n",
    "print(\"Is positive:\", checker.is_positive(num))\n",
    "print(\"Is negative:\", checker.is_negative(num))\n",
    "print(\"Is zero:\", checker.is_zero(num))\n",
    "print(\"Is even:\", checker.is_even(num))\n",
    "print(\"Is odd:\", checker.is_odd(num))\n",
    "\n",
    "val_in_list = int(input(\"Enter a number to check if it's in list [1,2,3]: \"))\n",
    "print(\"In list:\", checker.in_list(val_in_list, [1, 2, 3]))\n",
    "\n",
    "val_not_in_list = int(input(\"Enter a number to check if it's NOT in list [1,2,3]: \"))\n",
    "print(\"Not in list:\", checker.not_in_list(val_not_in_list, [1, 2, 3]))\n",
    "\n",
    "text = input(\"Enter a string to check length range: \")\n",
    "min_len = int(input(\"Enter minimum length: \"))\n",
    "max_len = int(input(\"Enter maximum length: \"))\n",
    "print(\"Length between:\", checker.is_length_between(text, min_len, max_len))\n",
    "\n",
    "val_type = input(\"Enter a value to check type (will be cast as int): \")\n",
    "print(\"Is type int:\", checker.is_type(int(val_type), int))\n"
   ]
  },
  {
   "cell_type": "code",
   "execution_count": null,
   "id": "3d5c437e-5434-41c6-97d2-9e00f8c296c2",
   "metadata": {},
   "outputs": [],
   "source": []
  },
  {
   "cell_type": "code",
   "execution_count": null,
   "id": "e8571b9a-454e-4a96-8af9-45b1af0081d8",
   "metadata": {},
   "outputs": [],
   "source": []
  }
 ],
 "metadata": {
  "kernelspec": {
   "display_name": "Python 3 (ipykernel)",
   "language": "python",
   "name": "python3"
  },
  "language_info": {
   "codemirror_mode": {
    "name": "ipython",
    "version": 3
   },
   "file_extension": ".py",
   "mimetype": "text/x-python",
   "name": "python",
   "nbconvert_exporter": "python",
   "pygments_lexer": "ipython3",
   "version": "3.13.1"
  }
 },
 "nbformat": 4,
 "nbformat_minor": 5
}
