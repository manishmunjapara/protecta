{
 "cells": [
  {
   "cell_type": "code",
   "execution_count": null,
   "id": "856f82a0-a4de-4a21-9367-6fb725e808df",
   "metadata": {},
   "outputs": [
    {
     "name": "stdout",
     "output_type": "stream",
     "text": [
      "\n",
      "====== LoginShield Menu ======\n",
      "1. Add User\n",
      "2. Login\n",
      "3. Change Password\n",
      "4. Validate Password Strength\n",
      "5. List Users\n",
      "6. Get User Count\n",
      "7. Reset All Users\n",
      "8. Exit\n"
     ]
    },
    {
     "name": "stdin",
     "output_type": "stream",
     "text": [
      "Choose an option (1-8):  1\n",
      "Enter username to add:  manish\n",
      "Enter password:  Manish@12345\n"
     ]
    },
    {
     "name": "stdout",
     "output_type": "stream",
     "text": [
      "User added.\n",
      "\n",
      "====== LoginShield Menu ======\n",
      "1. Add User\n",
      "2. Login\n",
      "3. Change Password\n",
      "4. Validate Password Strength\n",
      "5. List Users\n",
      "6. Get User Count\n",
      "7. Reset All Users\n",
      "8. Exit\n"
     ]
    }
   ],
   "source": [
    "from loginshield import LoginShield\n",
    "\n",
    "# Create object\n",
    "shield = LoginShield()\n",
    "\n",
    "# Menu-based system\n",
    "def show_menu():\n",
    "    print(\"\\n====== LoginShield Menu ======\")\n",
    "    print(\"1. Add User\")\n",
    "    print(\"2. Login\")\n",
    "    print(\"3. Change Password\")\n",
    "    print(\"4. Validate Password Strength\")\n",
    "    print(\"5. List Users\")\n",
    "    print(\"6. Get User Count\")\n",
    "    print(\"7. Reset All Users\")\n",
    "    print(\"8. Exit\")\n",
    "\n",
    "while True:\n",
    "    show_menu()\n",
    "    choice = input(\"Choose an option (1-8): \")\n",
    "\n",
    "    if choice == '1':\n",
    "        username = input(\"Enter username to add: \")\n",
    "        password = input(\"Enter password: \")\n",
    "        print(shield.add_user(username, password))\n",
    "\n",
    "    elif choice == '2':\n",
    "        username = input(\"Enter username to login: \")\n",
    "        password = input(\"Enter password: \")\n",
    "        print(shield.login(username, password))\n",
    "\n",
    "    elif choice == '3':\n",
    "        username = input(\"Enter username: \")\n",
    "        old_pass = input(\"Enter old password: \")\n",
    "        new_pass = input(\"Enter new password: \")\n",
    "        print(shield.change_password(username, old_pass, new_pass))\n",
    "\n",
    "    elif choice == '4':\n",
    "        password = input(\"Enter password to validate: \")\n",
    "        print(shield.validate_password_strength(password))\n",
    "\n",
    "    elif choice == '5':\n",
    "        print(\"Users:\", shield.list_users())\n",
    "\n",
    "    elif choice == '6':\n",
    "        print(\"Total users:\", shield.get_user_count())\n",
    "\n",
    "    elif choice == '7':\n",
    "        confirm = input(\"Are you sure you want to reset all users? (yes/no): \")\n",
    "        if confirm.lower() == 'yes':\n",
    "            print(shield.reset_all_users())\n",
    "        else:\n",
    "            print(\"Reset canceled.\")\n",
    "\n",
    "    elif choice == '8':\n",
    "        print(\"Exiting LoginShield.\")\n",
    "        break\n",
    "\n",
    "    else:\n",
    "        print(\"Invalid choice. Please select a valid option.\")\n"
   ]
  },
  {
   "cell_type": "code",
   "execution_count": null,
   "id": "4e0e520a-c6c9-47aa-9f83-4826ac65a0e8",
   "metadata": {},
   "outputs": [],
   "source": []
  }
 ],
 "metadata": {
  "kernelspec": {
   "display_name": "Python 3 (ipykernel)",
   "language": "python",
   "name": "python3"
  },
  "language_info": {
   "codemirror_mode": {
    "name": "ipython",
    "version": 3
   },
   "file_extension": ".py",
   "mimetype": "text/x-python",
   "name": "python",
   "nbconvert_exporter": "python",
   "pygments_lexer": "ipython3",
   "version": "3.13.1"
  }
 },
 "nbformat": 4,
 "nbformat_minor": 5
}
